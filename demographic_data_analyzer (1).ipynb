{
 "cells": [
  {
   "cell_type": "code",
   "execution_count": 1,
   "id": "e68a4cd6-8766-4845-8b7b-5f88a65ede04",
   "metadata": {},
   "outputs": [],
   "source": [
    "import pandas as pd"
   ]
  },
  {
   "cell_type": "code",
   "execution_count": 2,
   "id": "38f6f4bb-c0ef-4166-a830-f8c00a8d9af3",
   "metadata": {},
   "outputs": [],
   "source": [
    "df=pd.read_csv(\"adult.data.csv\")"
   ]
  },
  {
   "cell_type": "code",
   "execution_count": 4,
   "id": "ed7e8c7e-fd06-4172-bc97-0de07f9477f2",
   "metadata": {},
   "outputs": [
    {
     "name": "stdout",
     "output_type": "stream",
     "text": [
      "race\n",
      "White                 27816\n",
      "Black                  3124\n",
      "Asian-Pac-Islander     1039\n",
      "Amer-Indian-Eskimo      311\n",
      "Other                   271\n",
      "Name: count, dtype: int64\n"
     ]
    }
   ],
   "source": [
    "race_counts = df['race'].value_counts()\n",
    "print(race_counts)"
   ]
  },
  {
   "cell_type": "code",
   "execution_count": 8,
   "id": "3742f5b6-9992-4165-a614-7ce2a40cf304",
   "metadata": {},
   "outputs": [
    {
     "name": "stdout",
     "output_type": "stream",
     "text": [
      "39.4\n"
     ]
    }
   ],
   "source": [
    "average_age_men = round(df[df['sex'] == 'Male']['age'].mean(), 1)\n",
    "print(average_age_men)"
   ]
  },
  {
   "cell_type": "code",
   "execution_count": 9,
   "id": "c3105d30-d725-4dac-91a9-eac8d8243541",
   "metadata": {},
   "outputs": [
    {
     "name": "stdout",
     "output_type": "stream",
     "text": [
      "16.4\n"
     ]
    }
   ],
   "source": [
    "bachelors_count = (df['education'] == 'Bachelors').sum()\n",
    "total_count = df.shape[0]\n",
    "percentage_bachelors = round((bachelors_count / total_count) * 100, 1)\n",
    "print(percentage_bachelors)"
   ]
  },
  {
   "cell_type": "code",
   "execution_count": 7,
   "id": "89143395-8e32-4af4-88d9-f2166c9fea72",
   "metadata": {},
   "outputs": [
    {
     "name": "stdout",
     "output_type": "stream",
     "text": [
      "46.5\n"
     ]
    }
   ],
   "source": [
    "advanced_education = df[df['education'].isin(['Bachelors', 'Masters', 'Doctorate'])]\n",
    "percentage_advanced_over_50K = round((advanced_education[advanced_education['salary'] == '>50K'].shape[0] / advanced_education.shape[0]) * 100, 1)\n",
    "print(percentage_advanced_over_50K)"
   ]
  },
  {
   "cell_type": "code",
   "execution_count": 10,
   "id": "1abedc60-37cb-4bf3-add5-07cb7add9aad",
   "metadata": {},
   "outputs": [
    {
     "name": "stdout",
     "output_type": "stream",
     "text": [
      "17.4\n"
     ]
    }
   ],
   "source": [
    "no_advanced_education = df[~df['education'].isin(['Bachelors', 'Masters', 'Doctorate'])]\n",
    "percentage_no_advanced_over_50K = round((no_advanced_education[no_advanced_education['salary'] == '>50K'].shape[0] / no_advanced_education.shape[0]) * 100, 1)\n",
    "print(percentage_no_advanced_over_50K)"
   ]
  },
  {
   "cell_type": "code",
   "execution_count": 11,
   "id": "b7e7250c-2949-47a6-a833-f72bfccee2e9",
   "metadata": {},
   "outputs": [
    {
     "name": "stdout",
     "output_type": "stream",
     "text": [
      "1\n"
     ]
    }
   ],
   "source": [
    "min_hours_per_week = df['hours-per-week'].min()\n",
    "print(min_hours_per_week)"
   ]
  },
  {
   "cell_type": "code",
   "execution_count": 12,
   "id": "8026b1a8-b28a-4098-a872-7bcfa4a434ac",
   "metadata": {},
   "outputs": [
    {
     "name": "stdout",
     "output_type": "stream",
     "text": [
      "10.0\n"
     ]
    }
   ],
   "source": [
    "min_hours_earning_over_50K = df[df['hours-per-week'] == min_hours_per_week]\n",
    "percentage_min_hours_over_50K = round((min_hours_earning_over_50K[min_hours_earning_over_50K['salary'] == '>50K'].shape[0] / min_hours_earning_over_50K.shape[0]) * 100, 1)\n",
    "print(percentage_min_hours_over_50K)"
   ]
  },
  {
   "cell_type": "code",
   "execution_count": null,
   "id": "764dd9a2-7d83-4fd2-b554-b6585701b280",
   "metadata": {},
   "outputs": [],
   "source": [
    "countries = data['native-country'].unique()\n",
    "highest_percentage_country = None\n",
    "highest_percentage_value = 0\n",
    "\n",
    "for country in countries:\n",
    "    country_data = data[data['native-country'] == country]\n",
    "    percentage_over_50K = (country_data[country_data['salary'] == '>50K'].shape[0] / country_data.shape[0]) * 100\n",
    "    \n",
    "    if percentage_over_50K > highest_percentage_value:\n",
    "        highest_percentage_value = percentage_over_50K\n",
    "        highest_percentage_country = country\n",
    "\n",
    "highest_percentage_country, round(highest_percentage_value, 1)"
   ]
  }
 ],
 "metadata": {
  "kernelspec": {
   "display_name": "Python 3 (ipykernel)",
   "language": "python",
   "name": "python3"
  },
  "language_info": {
   "codemirror_mode": {
    "name": "ipython",
    "version": 3
   },
   "file_extension": ".py",
   "mimetype": "text/x-python",
   "name": "python",
   "nbconvert_exporter": "python",
   "pygments_lexer": "ipython3",
   "version": "3.11.7"
  }
 },
 "nbformat": 4,
 "nbformat_minor": 5
}
